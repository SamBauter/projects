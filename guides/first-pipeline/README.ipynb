{
 "cells": [
  {
   "cell_type": "markdown",
   "id": "bc31ac47",
   "metadata": {
    "papermill": {
     "duration": 0.033343,
     "end_time": "2022-05-13T23:49:34.501338",
     "exception": false,
     "start_time": "2022-05-13T23:49:34.467995",
     "status": "completed"
    },
    "tags": []
   },
   "source": [
    "To run this example locally, [install Ploomber](https://docs.ploomber.io/en/latest/get-started/quick-start.html) and execute: `ploomber examples -n guides/first-pipeline`\n",
    "\n",
    "To start a free, hosted JupyterLab: [![binder-logo](https://mybinder.org/badge_logo.svg)](https://mybinder.org/v2/gh/ploomber/binder-env/main?urlpath=git-pull%3Frepo%3Dhttps%253A%252F%252Fgithub.com%252Fploomber%252Fprojects%26urlpath%3Dlab%252Ftree%252Fprojects%252Fguides/first-pipeline%252FREADME.ipynb%26branch%3Dmaster)\n",
    "\n",
    "Found an issue? [Let us know.](https://github.com/ploomber/projects/issues/new?title=guides/first-pipeline%20issue)\n",
    "\n",
    "Have questions? [Ask us anything on Slack.](https://ploomber.io/community/)\n",
    "\n"
   ]
  },
  {
   "cell_type": "markdown",
   "id": "93c2a7a7",
   "metadata": {
    "papermill": {
     "duration": 0.02846,
     "end_time": "2022-05-13T23:49:34.559006",
     "exception": false,
     "start_time": "2022-05-13T23:49:34.530546",
     "status": "completed"
    },
    "tags": []
   },
   "source": [
    "# Your first Python pipeline\n",
    "\n",
    "<!-- start description -->\n",
    "Introductory tutorial to learn the basics of Ploomber.\n",
    "<!-- end description -->\n",
    "\n",
    "## Introduction\n",
    "\n",
    "Ploomber helps you build modular pipelines. A pipeline (or **DAG**) is a group of tasks with a particular execution order, where subsequent (or **downstream** tasks) use previous (or **upstream**) tasks as inputs.\n",
    "\n",
    "## Pipeline declaration\n",
    "\n",
    "This example pipeline contains five tasks, `1-get.py`, `2-profile-raw.py`, \n",
    "`3-clean.py`, `4-profile-clean.py` and `5-plot.py`; we declare them in a `pipeline.yaml` file:"
   ]
  },
  {
   "cell_type": "markdown",
   "id": "27fcd7e9",
   "metadata": {
    "papermill": {
     "duration": 0.028772,
     "end_time": "2022-05-13T23:49:34.615134",
     "exception": false,
     "start_time": "2022-05-13T23:49:34.586362",
     "status": "completed"
    },
    "region_name": "md",
    "tags": []
   },
   "source": [
    "```yaml\n",
    "# Content of pipeline.yaml\n",
    "tasks:\n",
    "   # source is the code you want to execute (.ipynb also supported)\n",
    "  - source: 1-get.py\n",
    "    # products are task's outputs\n",
    "    product:\n",
    "      # scripts generate executed notebooks as outputs\n",
    "      nb: output/1-get.ipynb\n",
    "      # you can define as many outputs as you want\n",
    "      data: output/raw_data.csv\n",
    "\n",
    "  - source: 2-profile-raw.py\n",
    "    product: output/2-profile-raw.ipynb\n",
    "\n",
    "  - source: 3-clean.py\n",
    "    product:\n",
    "      nb: output/3-clean.ipynb\n",
    "      data: output/clean_data.parquet\n",
    "\n",
    "  - source: 4-profile-clean.py\n",
    "    product: output/4-profile-clean.ipynb\n",
    "\n",
    "  - source: 5-plot.py\n",
    "    product: output/5-plot.ipynb\n",
    "\n",
    "```"
   ]
  },
  {
   "cell_type": "markdown",
   "id": "a8ed0041",
   "metadata": {
    "papermill": {
     "duration": 0.029019,
     "end_time": "2022-05-13T23:49:34.671394",
     "exception": false,
     "start_time": "2022-05-13T23:49:34.642375",
     "status": "completed"
    },
    "tags": []
   },
   "source": [
    "**Note:** YAML is a human-readable text format similar to JSON.\n",
    "\n",
    "**Note:** Ploomber supports Python scripts, Python functions, Jupyter notebooks, R scripts, and SQL scripts.\n",
    "\n",
    "## Opening `.py` files as notebooks\n",
    "\n",
    "Ploomber integrates with Jupyter. Among other things, it **allows you to open `.py` files as notebooks** (via `jupytext`).\n",
    "\n",
    "![lab-open-with-nb](https://ploomber.io/images/doc/lab-open-with-notebook.png)\n",
    "\n",
    "### What sets the execution order?\n",
    "\n",
    "Ploomber infers the pipeline structure from your code. For example, to\n",
    "clean the data, we must get it first; hence, we declare the following in `3-clean.py`:\n",
    "\n",
    "~~~python\n",
    "# 3-clean.py\n",
    "\n",
    "# this tells Ploomber to execute the '1-get' task before '3-clean'\n",
    "upstream = ['1-get']\n",
    "~~~\n",
    "\n",
    "## Plotting the pipeline"
   ]
  },
  {
   "cell_type": "code",
   "execution_count": 1,
   "id": "84b6dad2",
   "metadata": {
    "execution": {
     "iopub.execute_input": "2022-05-13T23:49:34.734594Z",
     "iopub.status.busy": "2022-05-13T23:49:34.733818Z",
     "iopub.status.idle": "2022-05-13T23:49:41.001164Z",
     "shell.execute_reply": "2022-05-13T23:49:41.002316Z"
    },
    "papermill": {
     "duration": 6.304861,
     "end_time": "2022-05-13T23:49:41.002747",
     "exception": false,
     "start_time": "2022-05-13T23:49:34.697886",
     "status": "completed"
    },
    "tags": []
   },
   "outputs": [
    {
     "name": "stdout",
     "output_type": "stream",
     "text": [
      "Loading pipeline...\n",
      "Plot saved at: pipeline.png\n"
     ]
    }
   ],
   "source": [
    "%%bash\n",
    "ploomber plot"
   ]
  },
  {
   "cell_type": "code",
   "execution_count": 2,
   "id": "8ede6522",
   "metadata": {
    "execution": {
     "iopub.execute_input": "2022-05-13T23:49:41.068048Z",
     "iopub.status.busy": "2022-05-13T23:49:41.067421Z",
     "iopub.status.idle": "2022-05-13T23:49:41.079421Z",
     "shell.execute_reply": "2022-05-13T23:49:41.079899Z"
    },
    "papermill": {
     "duration": 0.045908,
     "end_time": "2022-05-13T23:49:41.080127",
     "exception": false,
     "start_time": "2022-05-13T23:49:41.034219",
     "status": "completed"
    },
    "tags": []
   },
   "outputs": [
    {
     "data": {
      "image/png": "[encoded data removed]",
      "text/plain": [
       "<IPython.core.display.Image object>"
      ]
     },
     "execution_count": 2,
     "metadata": {},
     "output_type": "execute_result"
    }
   ],
   "source": [
    "from IPython.display import Image\n",
    "Image(filename='pipeline.png')"
   ]
  },
  {
   "cell_type": "markdown",
   "id": "8bd236f3",
   "metadata": {
    "papermill": {
     "duration": 0.028337,
     "end_time": "2022-05-13T23:49:41.138206",
     "exception": false,
     "start_time": "2022-05-13T23:49:41.109869",
     "status": "completed"
    },
    "tags": []
   },
   "source": [
    "You can see that our pipeline has a defined execution order.\n",
    "\n",
    "**Note:** This is a sample predefined five-task pipeline, Ploomber can manage arbitrarily complex pipelines and dependencies among tasks.\n",
    "\n",
    "## Running the pipeline"
   ]
  },
  {
   "cell_type": "code",
   "execution_count": 3,
   "id": "cdc70bd4",
   "metadata": {
    "execution": {
     "iopub.execute_input": "2022-05-13T23:49:41.205963Z",
     "iopub.status.busy": "2022-05-13T23:49:41.204795Z",
     "iopub.status.idle": "2022-05-13T23:50:07.581294Z",
     "shell.execute_reply": "2022-05-13T23:50:07.581929Z"
    },
    "papermill": {
     "duration": 26.413628,
     "end_time": "2022-05-13T23:50:07.582127",
     "exception": false,
     "start_time": "2022-05-13T23:49:41.168499",
     "status": "completed"
    },
    "tags": []
   },
   "outputs": [
    {
     "name": "stdout",
     "output_type": "stream",
     "text": [
      "Loading pipeline...\n",
      "name             Ran?      Elapsed (s)    Percentage\n",
      "---------------  ------  -------------  ------------\n",
      "1-get            True          2.68205       13.9314\n",
      "2-profile-raw    True          4.57552       23.7666\n",
      "3-clean          True          2.53486       13.1668\n",
      "4-profile-clean  True          3.8043        19.7607\n",
      "5-plot           True          5.65512       29.3745\n"
     ]
    },
    {
     "name": "stderr",
     "output_type": "stream",
     "text": [
      "\r",
      "  0%|          | 0/5 [00:00<?, ?it/s]\r",
      "Building task '1-get':   0%|          | 0/5 [00:00<?, ?it/s]\n",
      "\r",
      "Executing:   0%|          | 0/6 [00:00<?, ?cell/s]\u001b[A\n",
      "\r",
      "Executing:  17%|█▋        | 1/6 [00:01<00:08,  1.77s/cell]\u001b[A\n",
      "\r",
      "Executing:  67%|██████▋   | 4/6 [00:02<00:00,  2.08cell/s]\u001b[A\r",
      "Executing: 100%|██████████| 6/6 [00:02<00:00,  2.30cell/s]\n",
      "\r",
      "Building task '1-get':  20%|██        | 1/5 [00:02<00:10,  2.69s/it]\r",
      "Building task '2-profile-raw':  20%|██        | 1/5 [00:02<00:10,  2.69s/it]\n",
      "\r",
      "Executing:   0%|          | 0/7 [00:00<?, ?cell/s]\u001b[A\n",
      "\r",
      "Executing:  14%|█▍        | 1/7 [00:01<00:07,  1.32s/cell]\u001b[A\n",
      "\r",
      "Executing:  43%|████▎     | 3/7 [00:02<00:03,  1.24cell/s]\u001b[A\n",
      "\r",
      "Executing:  71%|███████▏  | 5/7 [00:03<00:01,  1.48cell/s]\u001b[A\n",
      "\r",
      "Executing:  86%|████████▌ | 6/7 [00:03<00:00,  1.77cell/s]\u001b[A\n",
      "\r",
      "Executing: 100%|██████████| 7/7 [00:04<00:00,  2.10cell/s]\u001b[A\r",
      "Executing: 100%|██████████| 7/7 [00:04<00:00,  1.56cell/s]\n",
      "\r",
      "Building task '2-profile-raw':  40%|████      | 2/5 [00:07<00:11,  3.80s/it]\r",
      "Building task '3-clean':  40%|████      | 2/5 [00:07<00:11,  3.80s/it]      \n",
      "\r",
      "Executing:   0%|          | 0/9 [00:00<?, ?cell/s]\u001b[A\n",
      "\r",
      "Executing:  11%|█         | 1/9 [00:01<00:14,  1.78s/cell]\u001b[A\n",
      "\r",
      "Executing:  44%|████▍     | 4/9 [00:01<00:01,  2.66cell/s]\u001b[A\n",
      "\r",
      "Executing:  67%|██████▋   | 6/9 [00:02<00:00,  4.23cell/s]\u001b[A\n",
      "\r",
      "Executing:  89%|████████▉ | 8/9 [00:02<00:00,  6.01cell/s]\u001b[A\r",
      "Executing: 100%|██████████| 9/9 [00:02<00:00,  3.68cell/s]\n",
      "\r",
      "Building task '3-clean':  60%|██████    | 3/5 [00:09<00:06,  3.22s/it]\r",
      "Building task '4-profile-clean':  60%|██████    | 3/5 [00:09<00:06,  3.22s/it]\n",
      "\r",
      "Executing:   0%|          | 0/7 [00:00<?, ?cell/s]\u001b[A\n",
      "\r",
      "Executing:  14%|█▍        | 1/7 [00:01<00:07,  1.18s/cell]\u001b[A\n",
      "\r",
      "Executing:  43%|████▎     | 3/7 [00:02<00:02,  1.40cell/s]\u001b[A\n",
      "\r",
      "Executing:  57%|█████▋    | 4/7 [00:02<00:01,  1.76cell/s]\u001b[A\n",
      "\r",
      "Executing:  71%|███████▏  | 5/7 [00:02<00:00,  2.03cell/s]\u001b[A\n",
      "\r",
      "Executing:  86%|████████▌ | 6/7 [00:03<00:00,  2.39cell/s]\u001b[A\n",
      "\r",
      "Executing: 100%|██████████| 7/7 [00:03<00:00,  2.80cell/s]\u001b[A\r",
      "Executing: 100%|██████████| 7/7 [00:03<00:00,  1.88cell/s]\n",
      "\r",
      "Building task '4-profile-clean':  80%|████████  | 4/5 [00:13<00:03,  3.45s/it]\r",
      "Building task '5-plot':  80%|████████  | 4/5 [00:13<00:03,  3.45s/it]         \n",
      "\r",
      "Executing:   0%|          | 0/8 [00:00<?, ?cell/s]\u001b[A\n",
      "\r",
      "Executing:  12%|█▎        | 1/8 [00:02<00:16,  2.32s/cell]\u001b[A\n",
      "\r",
      "Executing:  50%|█████     | 4/8 [00:02<00:01,  2.07cell/s]\u001b[A\n",
      "\r",
      "Executing:  75%|███████▌  | 6/8 [00:04<00:01,  1.64cell/s]\u001b[A\n",
      "\r",
      "Executing:  88%|████████▊ | 7/8 [00:05<00:00,  1.35cell/s]\u001b[A\r",
      "Executing: 100%|██████████| 8/8 [00:05<00:00,  1.44cell/s]\n",
      "\r",
      "Building task '5-plot': 100%|██████████| 5/5 [00:19<00:00,  4.25s/it]\r",
      "Building task '5-plot': 100%|██████████| 5/5 [00:19<00:00,  3.85s/it]\n"
     ]
    }
   ],
   "source": [
    "%%bash\n",
    "# takes a few seconds to finish\n",
    "ploomber build"
   ]
  },
  {
   "cell_type": "markdown",
   "id": "5e3a78dc",
   "metadata": {
    "papermill": {
     "duration": 0.030484,
     "end_time": "2022-05-13T23:50:07.647497",
     "exception": false,
     "start_time": "2022-05-13T23:50:07.617013",
     "status": "completed"
    },
    "tags": []
   },
   "source": [
    "This pipeline saves all the output in the `output/` directory; we have the output notebooks and data files:"
   ]
  },
  {
   "cell_type": "code",
   "execution_count": 4,
   "id": "2d86fce7",
   "metadata": {
    "execution": {
     "iopub.execute_input": "2022-05-13T23:50:07.719057Z",
     "iopub.status.busy": "2022-05-13T23:50:07.718203Z",
     "iopub.status.idle": "2022-05-13T23:50:07.782537Z",
     "shell.execute_reply": "2022-05-13T23:50:07.782024Z"
    },
    "papermill": {
     "duration": 0.102448,
     "end_time": "2022-05-13T23:50:07.782749",
     "exception": false,
     "start_time": "2022-05-13T23:50:07.680301",
     "status": "completed"
    },
    "tags": []
   },
   "outputs": [
    {
     "name": "stdout",
     "output_type": "stream",
     "text": [
      "1-get.ipynb\n",
      "2-profile-raw.ipynb\n",
      "3-clean.ipynb\n",
      "4-profile-clean.ipynb\n",
      "5-plot.ipynb\n",
      "clean_data.parquet\n",
      "raw_data.csv\n"
     ]
    }
   ],
   "source": [
    "%%bash\n",
    "ls output"
   ]
  },
  {
   "cell_type": "markdown",
   "id": "0422f0e2",
   "metadata": {
    "papermill": {
     "duration": 0.033384,
     "end_time": "2022-05-13T23:50:07.848282",
     "exception": false,
     "start_time": "2022-05-13T23:50:07.814898",
     "status": "completed"
    },
    "tags": []
   },
   "source": [
    "## Updating the pipeline\n",
    "\n",
    "Ploomber automatically caches your pipeline’s previous results and only runs tasks that changed since your last execution.\n",
    "\n",
    "Execute the following to modify the `3-clean.py` script"
   ]
  },
  {
   "cell_type": "code",
   "execution_count": 5,
   "id": "89319331",
   "metadata": {
    "execution": {
     "iopub.execute_input": "2022-05-13T23:50:07.918812Z",
     "iopub.status.busy": "2022-05-13T23:50:07.918097Z",
     "iopub.status.idle": "2022-05-13T23:50:07.922598Z",
     "shell.execute_reply": "2022-05-13T23:50:07.923116Z"
    },
    "papermill": {
     "duration": 0.042665,
     "end_time": "2022-05-13T23:50:07.923358",
     "exception": false,
     "start_time": "2022-05-13T23:50:07.880693",
     "status": "completed"
    },
    "tags": []
   },
   "outputs": [
    {
     "data": {
      "text/plain": [
       "417"
      ]
     },
     "execution_count": 5,
     "metadata": {},
     "output_type": "execute_result"
    }
   ],
   "source": [
    "from pathlib import Path\n",
    "\n",
    "path = Path('3-clean.py')\n",
    "clean = path.read_text()\n",
    "\n",
    "# add a print statement at the end of 3-clean.py\n",
    "path.write_text(clean + \"\"\"\n",
    "print(\"hello\")\n",
    "\"\"\")"
   ]
  },
  {
   "cell_type": "markdown",
   "id": "544e12f8",
   "metadata": {
    "papermill": {
     "duration": 0.035481,
     "end_time": "2022-05-13T23:50:07.993099",
     "exception": false,
     "start_time": "2022-05-13T23:50:07.957618",
     "status": "completed"
    },
    "tags": []
   },
   "source": [
    "Execute the pipeline again:"
   ]
  },
  {
   "cell_type": "code",
   "execution_count": 6,
   "id": "c653cc4c",
   "metadata": {
    "execution": {
     "iopub.execute_input": "2022-05-13T23:50:08.067094Z",
     "iopub.status.busy": "2022-05-13T23:50:08.066219Z",
     "iopub.status.idle": "2022-05-13T23:50:27.183685Z",
     "shell.execute_reply": "2022-05-13T23:50:27.184201Z"
    },
    "papermill": {
     "duration": 19.156685,
     "end_time": "2022-05-13T23:50:27.184402",
     "exception": false,
     "start_time": "2022-05-13T23:50:08.027717",
     "status": "completed"
    },
    "tags": []
   },
   "outputs": [
    {
     "name": "stdout",
     "output_type": "stream",
     "text": [
      "Loading pipeline...\n",
      "name             Ran?      Elapsed (s)    Percentage\n",
      "---------------  ------  -------------  ------------\n",
      "3-clean          True          2.35839       20.2362\n",
      "4-profile-clean  True          3.73398       32.0396\n",
      "5-plot           True          5.56192       47.7242\n",
      "1-get            False         0              0\n",
      "2-profile-raw    False         0              0\n"
     ]
    },
    {
     "name": "stderr",
     "output_type": "stream",
     "text": [
      "\r",
      "  0%|          | 0/3 [00:00<?, ?it/s]\r",
      "Building task '3-clean':   0%|          | 0/3 [00:00<?, ?it/s]\n",
      "\r",
      "Executing:   0%|          | 0/9 [00:00<?, ?cell/s]\u001b[A\n",
      "\r",
      "Executing:  11%|█         | 1/9 [00:01<00:12,  1.61s/cell]\u001b[A\n",
      "\r",
      "Executing:  44%|████▍     | 4/9 [00:01<00:01,  2.92cell/s]\u001b[A\n",
      "\r",
      "Executing:  67%|██████▋   | 6/9 [00:01<00:00,  4.56cell/s]\u001b[A\n",
      "\r",
      "Executing:  89%|████████▉ | 8/9 [00:01<00:00,  6.42cell/s]\u001b[A\r",
      "Executing: 100%|██████████| 9/9 [00:02<00:00,  3.97cell/s]\n",
      "\r",
      "Building task '3-clean':  33%|███▎      | 1/3 [00:02<00:04,  2.36s/it]\r",
      "Building task '4-profile-clean':  33%|███▎      | 1/3 [00:02<00:04,  2.36s/it]\n",
      "\r",
      "Executing:   0%|          | 0/7 [00:00<?, ?cell/s]\u001b[A\n",
      "\r",
      "Executing:  14%|█▍        | 1/7 [00:01<00:08,  1.36s/cell]\u001b[A\n",
      "\r",
      "Executing:  43%|████▎     | 3/7 [00:02<00:03,  1.33cell/s]\u001b[A\n",
      "\r",
      "Executing:  71%|███████▏  | 5/7 [00:02<00:00,  2.10cell/s]\u001b[A\n",
      "\r",
      "Executing:  86%|████████▌ | 6/7 [00:03<00:00,  2.40cell/s]\u001b[A\n",
      "\r",
      "Executing: 100%|██████████| 7/7 [00:03<00:00,  2.77cell/s]\u001b[A\r",
      "Executing: 100%|██████████| 7/7 [00:03<00:00,  1.91cell/s]\n",
      "\r",
      "Building task '4-profile-clean':  67%|██████▋   | 2/3 [00:06<00:03,  3.17s/it]\r",
      "Building task '5-plot':  67%|██████▋   | 2/3 [00:06<00:03,  3.17s/it]         \n",
      "\r",
      "Executing:   0%|          | 0/8 [00:00<?, ?cell/s]\u001b[A\n",
      "\r",
      "Executing:  12%|█▎        | 1/8 [00:02<00:15,  2.21s/cell]\u001b[A\n",
      "\r",
      "Executing:  50%|█████     | 4/8 [00:02<00:01,  2.16cell/s]\u001b[A\n",
      "\r",
      "Executing:  75%|███████▌  | 6/8 [00:03<00:01,  1.67cell/s]\u001b[A\n",
      "\r",
      "Executing:  88%|████████▊ | 7/8 [00:05<00:00,  1.37cell/s]\u001b[A\r",
      "Executing: 100%|██████████| 8/8 [00:05<00:00,  1.46cell/s]\n",
      "\r",
      "Building task '5-plot': 100%|██████████| 3/3 [00:11<00:00,  4.26s/it]\r",
      "Building task '5-plot': 100%|██████████| 3/3 [00:11<00:00,  3.89s/it]\n"
     ]
    }
   ],
   "source": [
    "%%bash\n",
    "# takes a few seconds to finish\n",
    "ploomber build"
   ]
  },
  {
   "cell_type": "code",
   "execution_count": 7,
   "id": "699b4f81",
   "metadata": {
    "execution": {
     "iopub.execute_input": "2022-05-13T23:50:27.263967Z",
     "iopub.status.busy": "2022-05-13T23:50:27.262962Z",
     "iopub.status.idle": "2022-05-13T23:50:27.266977Z",
     "shell.execute_reply": "2022-05-13T23:50:27.267454Z"
    },
    "papermill": {
     "duration": 0.044937,
     "end_time": "2022-05-13T23:50:27.267709",
     "exception": false,
     "start_time": "2022-05-13T23:50:27.222772",
     "status": "completed"
    },
    "tags": []
   },
   "outputs": [
    {
     "data": {
      "text/plain": [
       "401"
      ]
     },
     "execution_count": 7,
     "metadata": {},
     "output_type": "execute_result"
    }
   ],
   "source": [
    "# restore contents\n",
    "path.write_text(clean)"
   ]
  },
  {
   "cell_type": "markdown",
   "id": "9d4fcaa4",
   "metadata": {
    "papermill": {
     "duration": 0.034728,
     "end_time": "2022-05-13T23:50:27.342067",
     "exception": false,
     "start_time": "2022-05-13T23:50:27.307339",
     "status": "completed"
    },
    "tags": []
   },
   "source": [
    "You'll see that `1-get.py` & `2-profile-raw.py` didn't run because it was not affected by the change!\n",
    "\n",
    "## Where to go from here\n",
    "\n",
    "**Bring your own code!** Check out the tutorial to [migrate your code to Ploomber](https://docs.ploomber.io/en/latest/user-guide/refactoring.html).\n",
    "\n",
    "Have questions? [Ask us anything on Slack](https://ploomber.io/community/).\n",
    "\n",
    "Want to dig deeper into Ploomber's core concepts? Check out [the basic concepts tutorial](https://docs.ploomber.io/en/latest/get-started/basic-concepts.html).\n",
    "\n",
    "Want to start a new project quickly? Check out [how to get examples](https://docs.ploomber.io/en/latest/user-guide/templates.html).\n",
    "\n"
   ]
  }
 ],
 "metadata": {
  "kernelspec": {
   "display_name": "Python 3 (ipykernel)",
   "language": "python",
   "name": "python3"
  },
  "language_info": {
   "codemirror_mode": {
    "name": "ipython",
    "version": 3
   },
   "file_extension": ".py",
   "mimetype": "text/x-python",
   "name": "python",
   "nbconvert_exporter": "python",
   "pygments_lexer": "ipython3",
   "version": "3.9.7"
  },
  "papermill": {
   "default_parameters": {},
   "duration": 55.046899,
   "end_time": "2022-05-13T23:50:27.592456",
   "environment_variables": {},
   "exception": null,
   "input_path": "guides/first-pipeline/_build/readme_preprocessed.ipynb",
   "output_path": "guides/first-pipeline/README.ipynb",
   "parameters": {},
   "start_time": "2022-05-13T23:49:32.545557",
   "version": "2.3.4"
  }
 },
 "nbformat": 4,
 "nbformat_minor": 5
}