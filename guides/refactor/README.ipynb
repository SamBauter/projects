{
 "cells": [
  {
   "cell_type": "markdown",
   "id": "5f0c2b1b",
   "metadata": {
    "papermill": {
     "duration": 0.051447,
     "end_time": "2021-11-27T01:43:08.542638",
     "exception": false,
     "start_time": "2021-11-27T01:43:08.491191",
     "status": "completed"
    },
    "tags": []
   },
   "source": [
    "To run this example locally, [install Ploomber](https://docs.ploomber.io/en/latest/get-started/install.html) and execute: `ploomber examples -n guides/refactor`\n",
    "\n",
    "To start a free, hosted JupyterLab: [![binder-logo](https://mybinder.org/badge_logo.svg)](https://mybinder.org/v2/gh/ploomber/binder-env/main?urlpath=git-pull%3Frepo%3Dhttps%253A%252F%252Fgithub.com%252Fploomber%252Fprojects%26urlpath%3Dlab%252Ftree%252Fprojects%252Fguides/refactor%252FREADME.ipynb%26branch%3Dmaster)\n",
    "\n",
    "Found an issue? [Let us know.](https://github.com/ploomber/projects/issues/new?title=guides/refactor%20issue)\n",
    "\n",
    "Have questions? [Ask us anything on Slack.](https://ploomber.io/community/)\n",
    "\n"
   ]
  },
  {
   "cell_type": "code",
   "execution_count": 2,
   "id": "d4dbf96a",
   "metadata": {
    "execution": {
     "iopub.execute_input": "2021-11-27T01:43:08.644419Z",
     "iopub.status.busy": "2021-11-27T01:43:08.643188Z",
     "iopub.status.idle": "2021-11-27T01:43:08.646959Z",
     "shell.execute_reply": "2021-11-27T01:43:08.647438Z"
    },
    "papermill": {
     "duration": 0.058819,
     "end_time": "2021-11-27T01:43:08.647783",
     "exception": false,
     "start_time": "2021-11-27T01:43:08.588964",
     "status": "completed"
    },
    "tags": []
   },
   "outputs": [],
   "source": [
    "import os\n",
    "from pathlib import Path\n",
    "import shutil\n",
    "\n",
    "from IPython.display import Image"
   ]
  },
  {
   "cell_type": "markdown",
   "id": "0158fec2",
   "metadata": {
    "papermill": {
     "duration": 0.045084,
     "end_time": "2021-11-27T01:43:08.814882",
     "exception": false,
     "start_time": "2021-11-27T01:43:08.769798",
     "status": "completed"
    },
    "tags": []
   },
   "source": [
    "# Notebook refactoring\n",
    "\n",
    "<!-- start description -->\n",
    "Using Soorgeon to convert a notebook into a Ploomber pipeline.\n",
    "<!-- end description -->\n",
    "\n",
    "[Soorgeon](https://github.com/ploomber/soorgeon) is a tool from the Ploomber ecosystem that allows you to convert monolithic notebooks into maintainable pipelines.\n",
    "\n",
    "We have to examples, an exploratory data analysis notebook (`eda.ipynb`), and a Machine Learning notebook (`ml.ipynb`).\n",
    "\n",
    "## Refactoring `eda.ipynb`\n",
    "\n",
    "Before we proceed, open `eda.ipynb` to see how the code looks like, you'll notice that we have three sections (load, clean, and plot). Soorgeon uses H2 markdown headings to determine where to split the tasks in the output pipeline.\n",
    "\n",
    "Let's execute the refactoring command:"
   ]
  },
  {
   "cell_type": "code",
   "execution_count": 2,
   "id": "073af0b8",
   "metadata": {
    "execution": {
     "iopub.execute_input": "2021-11-27T01:43:08.905771Z",
     "iopub.status.busy": "2021-11-27T01:43:08.903832Z",
     "iopub.status.idle": "2021-11-27T01:43:09.861901Z",
     "shell.execute_reply": "2021-11-27T01:43:09.862607Z"
    },
    "papermill": {
     "duration": 1.004903,
     "end_time": "2021-11-27T01:43:09.863029",
     "exception": false,
     "start_time": "2021-11-27T01:43:08.858126",
     "status": "completed"
    },
    "tags": []
   },
   "outputs": [
    {
     "name": "stdout",
     "output_type": "stream",
     "text": [
      "Added 'output' directory to .gitignore...\n",
      "README.md found, appended auto-generated content\n",
      "Finished refactoring 'eda.ipynb', use Ploomber to continue.\n",
      "\n",
      "Install dependencies (this will install ploomber):\n",
      "    $ pip install -r requirements.txt\n",
      "\n",
      "List tasks:\n",
      "    $ ploomber status\n",
      "\n",
      "Execute pipeline:\n",
      "    $ ploomber build\n",
      "\n",
      "Plot pipeline:\n",
      "    $ ploomber plot\n",
      "\n",
      "* Documentation: https://docs.ploomber.io\n",
      "* Jupyter integration: https://ploomber.io/s/jupyter\n",
      "* Other editors: https://ploomber.io/s/editors\n",
      "\n"
     ]
    }
   ],
   "source": [
    "%%sh\n",
    "soorgeon refactor eda.ipynb"
   ]
  },
  {
   "cell_type": "markdown",
   "id": "2eb55e0b",
   "metadata": {
    "papermill": {
     "duration": 0.044994,
     "end_time": "2021-11-27T01:43:09.951787",
     "exception": false,
     "start_time": "2021-11-27T01:43:09.906793",
     "status": "completed"
    },
    "tags": []
   },
   "source": [
    "Let's generate the pipeline diagram (note: if you're running this locally, you must install `pygraphviz` first):"
   ]
  },
  {
   "cell_type": "code",
   "execution_count": 3,
   "id": "93fec536",
   "metadata": {
    "execution": {
     "iopub.execute_input": "2021-11-27T01:43:10.050214Z",
     "iopub.status.busy": "2021-11-27T01:43:10.049209Z",
     "iopub.status.idle": "2021-11-27T01:43:15.235986Z",
     "shell.execute_reply": "2021-11-27T01:43:15.236669Z"
    },
    "papermill": {
     "duration": 5.240463,
     "end_time": "2021-11-27T01:43:15.236890",
     "exception": false,
     "start_time": "2021-11-27T01:43:09.996427",
     "status": "completed"
    },
    "tags": []
   },
   "outputs": [
    {
     "name": "stdout",
     "output_type": "stream",
     "text": [
      "Loading pipeline...\n",
      "Plot saved at: pipeline.png\n"
     ]
    },
    {
     "name": "stderr",
     "output_type": "stream",
     "text": [
      "100%|██████████| 3/3 [00:00<00:00, 19784.45it/s]\n"
     ]
    }
   ],
   "source": [
    "%%sh\n",
    "ploomber plot"
   ]
  },
  {
   "cell_type": "code",
   "execution_count": 4,
   "id": "19101848",
   "metadata": {
    "execution": {
     "iopub.execute_input": "2021-11-27T01:43:15.337557Z",
     "iopub.status.busy": "2021-11-27T01:43:15.336810Z",
     "iopub.status.idle": "2021-11-27T01:43:15.348736Z",
     "shell.execute_reply": "2021-11-27T01:43:15.349264Z"
    },
    "papermill": {
     "duration": 0.063896,
     "end_time": "2021-11-27T01:43:15.349505",
     "exception": false,
     "start_time": "2021-11-27T01:43:15.285609",
     "status": "completed"
    },
    "tags": []
   },
   "outputs": [
    {
     "data": {
      "image/png": "[encoded data removed]",
      "text/plain": [
       "<IPython.core.display.Image object>"
      ]
     },
     "execution_count": 4,
     "metadata": {},
     "output_type": "execute_result"
    }
   ],
   "source": [
    "Image('pipeline.png')"
   ]
  },
  {
   "cell_type": "markdown",
   "id": "f0118679",
   "metadata": {
    "papermill": {
     "duration": 0.047801,
     "end_time": "2021-11-27T01:43:15.445409",
     "exception": false,
     "start_time": "2021-11-27T01:43:15.397608",
     "status": "completed"
    },
    "tags": []
   },
   "source": [
    "We can see that `soorgeon refactor` generated a Ploomber pipeline with one task per notebook section. The source code for each task is in the `tasks/` folder:"
   ]
  },
  {
   "cell_type": "code",
   "execution_count": 3,
   "id": "00825866",
   "metadata": {
    "execution": {
     "iopub.execute_input": "2021-11-27T01:43:15.545750Z",
     "iopub.status.busy": "2021-11-27T01:43:15.544786Z",
     "iopub.status.idle": "2021-11-27T01:43:15.548182Z",
     "shell.execute_reply": "2021-11-27T01:43:15.548810Z"
    },
    "papermill": {
     "duration": 0.056445,
     "end_time": "2021-11-27T01:43:15.549053",
     "exception": false,
     "start_time": "2021-11-27T01:43:15.492608",
     "status": "completed"
    },
    "tags": []
   },
   "outputs": [
    {
     "name": "stdout",
     "output_type": "stream",
     "text": [
      "train-test-split.ipynb\n",
      "random-forest-regressor.ipynb\n",
      "linear-regression.ipynb\n",
      "load.ipynb\n",
      "clean.ipynb\n"
     ]
    }
   ],
   "source": [
    "print('\\n'.join(os.listdir('tasks')))"
   ]
  },
  {
   "cell_type": "markdown",
   "id": "ab0cd70e",
   "metadata": {
    "papermill": {
     "duration": 0.049517,
     "end_time": "2021-11-27T01:43:15.649074",
     "exception": false,
     "start_time": "2021-11-27T01:43:15.599557",
     "status": "completed"
    },
    "tags": []
   },
   "source": [
    "Each task is a `.py` file, however, as with any other Ploomber pipeline, you can open those scripts as notebooks by doing `Right click -> Open With -> Notebook`.\n",
    "\n",
    "The command also generates a `pipeline.yaml` file, which is the file Ploomber uses to read your pipeline:"
   ]
  },
  {
   "cell_type": "code",
   "execution_count": 5,
   "id": "dc71cfba",
   "metadata": {
    "execution": {
     "iopub.execute_input": "2021-11-27T01:43:15.753602Z",
     "iopub.status.busy": "2021-11-27T01:43:15.752704Z",
     "iopub.status.idle": "2021-11-27T01:43:15.755851Z",
     "shell.execute_reply": "2021-11-27T01:43:15.756355Z"
    },
    "papermill": {
     "duration": 0.059548,
     "end_time": "2021-11-27T01:43:15.756546",
     "exception": false,
     "start_time": "2021-11-27T01:43:15.696998",
     "status": "completed"
    },
    "tags": []
   },
   "outputs": [
    {
     "name": "stdout",
     "output_type": "stream",
     "text": [
      "tasks:\n",
      "\n",
      "- source: tasks/load.ipynb\n",
      "  product:\n",
      "    df: output/load-df.pkl\n",
      "    nb: output/load.html\n",
      "\n",
      "- source: tasks/clean.ipynb\n",
      "  product:\n",
      "    df: output/clean-df.pkl\n",
      "    nb: output/clean.html\n",
      "\n",
      "- source: tasks/train-test-split.ipynb\n",
      "  product:\n",
      "    X_train: output/train-test-split-X_train.pkl\n",
      "    y_test: output/train-test-split-y_test.pkl\n",
      "    X_test: output/train-test-split-X_test.pkl\n",
      "    y_train: output/train-test-split-y_train.pkl\n",
      "    nb: output/train-test-split.html\n",
      "\n",
      "- source: tasks/linear-regression.ipynb\n",
      "  product:\n",
      "    nb: output/linear-regression.html\n",
      "\n",
      "- source: tasks/random-forest-regressor.ipynb\n",
      "  product:\n",
      "    nb: output/random-forest-regressor.html\n",
      "\n"
     ]
    }
   ],
   "source": [
    "print(Path('pipeline.yaml').read_text())"
   ]
  },
  {
   "cell_type": "markdown",
   "id": "62405db8",
   "metadata": {
    "papermill": {
     "duration": 0.049977,
     "end_time": "2021-11-27T01:43:15.856200",
     "exception": false,
     "start_time": "2021-11-27T01:43:15.806223",
     "status": "completed"
    },
    "tags": []
   },
   "source": [
    "Let's run the pipeline:"
   ]
  },
  {
   "cell_type": "code",
   "execution_count": 7,
   "id": "0ae4cd91",
   "metadata": {
    "execution": {
     "iopub.execute_input": "2021-11-27T01:43:15.968951Z",
     "iopub.status.busy": "2021-11-27T01:43:15.968174Z",
     "iopub.status.idle": "2021-11-27T01:43:30.566481Z",
     "shell.execute_reply": "2021-11-27T01:43:30.567247Z"
    },
    "papermill": {
     "duration": 14.654504,
     "end_time": "2021-11-27T01:43:30.567474",
     "exception": false,
     "start_time": "2021-11-27T01:43:15.912970",
     "status": "completed"
    },
    "tags": []
   },
   "outputs": [
    {
     "name": "stdout",
     "output_type": "stream",
     "text": [
      "Loading pipeline...\n",
      "name    Ran?      Elapsed (s)    Percentage\n",
      "------  ------  -------------  ------------\n",
      "load    True          2.6192        32.4285\n",
      "clean   True          1.75679       21.7509\n",
      "plot    True          3.70087       45.8206\n"
     ]
    },
    {
     "name": "stderr",
     "output_type": "stream",
     "text": [
      "Building task 'load':   0%|          | 0/3 [00:00<?, ?it/s]\n",
      "Executing:   0%|          | 0/6 [00:00<?, ?cell/s]\u001b[A\n",
      "Executing:  17%|█▋        | 1/6 [00:01<00:08,  1.68s/cell]\u001b[A\n",
      "Executing: 100%|██████████| 6/6 [00:02<00:00,  2.30cell/s]\u001b[A\n",
      "Building task 'clean':  33%|███▎      | 1/3 [00:02<00:05,  2.62s/it]\n",
      "Executing:   0%|          | 0/10 [00:00<?, ?cell/s]\u001b[A\n",
      "Executing:  10%|█         | 1/10 [00:01<00:09,  1.10s/cell]\u001b[A\n",
      "Executing: 100%|██████████| 10/10 [00:01<00:00,  5.72cell/s][A\n",
      "Building task 'plot':  67%|██████▋   | 2/3 [00:04<00:02,  2.11s/it] \n",
      "Executing:   0%|          | 0/6 [00:00<?, ?cell/s]\u001b[A\n",
      "Executing:  17%|█▋        | 1/6 [00:02<00:14,  2.90s/cell]\u001b[A\n",
      "Executing: 100%|██████████| 6/6 [00:03<00:00,  1.63cell/s]\u001b[A\n",
      "Building task 'plot': 100%|██████████| 3/3 [00:08<00:00,  2.69s/it]\n"
     ]
    }
   ],
   "source": [
    "%%sh\n",
    "ploomber build"
   ]
  },
  {
   "cell_type": "markdown",
   "id": "242a79d3",
   "metadata": {
    "papermill": {
     "duration": 0.052672,
     "end_time": "2021-11-27T01:43:30.673434",
     "exception": false,
     "start_time": "2021-11-27T01:43:30.620762",
     "status": "completed"
    },
    "tags": []
   },
   "source": [
    "Let's now refactor a more complex notebook."
   ]
  },
  {
   "cell_type": "code",
   "execution_count": 8,
   "id": "271eedd2",
   "metadata": {
    "execution": {
     "iopub.execute_input": "2021-11-27T01:43:30.798356Z",
     "iopub.status.busy": "2021-11-27T01:43:30.797115Z",
     "iopub.status.idle": "2021-11-27T01:43:30.805346Z",
     "shell.execute_reply": "2021-11-27T01:43:30.805872Z"
    },
    "papermill": {
     "duration": 0.078022,
     "end_time": "2021-11-27T01:43:30.806082",
     "exception": false,
     "start_time": "2021-11-27T01:43:30.728060",
     "status": "completed"
    },
    "tags": []
   },
   "outputs": [],
   "source": [
    "# clean up the files from this pipeline\n",
    "if Path('tasks').exists():\n",
    "    shutil.rmtree('tasks')\n",
    "\n",
    "if Path('output').exists():\n",
    "    shutil.rmtree('output')\n",
    "    \n",
    "if Path('pipeline.yaml').exists():\n",
    "    Path('pipeline.yaml').unlink()"
   ]
  },
  {
   "cell_type": "markdown",
   "id": "1f657c29",
   "metadata": {
    "papermill": {
     "duration": 0.067018,
     "end_time": "2021-11-27T01:43:30.933068",
     "exception": false,
     "start_time": "2021-11-27T01:43:30.866050",
     "status": "completed"
    },
    "tags": []
   },
   "source": [
    "## Refactoring `ml.ipynb`\n",
    "\n",
    "`ml.ipynb` is a Machine Learning pipeline that prepares a training set and then trains two models, let's refactor it:"
   ]
  },
  {
   "cell_type": "code",
   "execution_count": 9,
   "id": "8acdc1b5",
   "metadata": {
    "execution": {
     "iopub.execute_input": "2021-11-27T01:43:31.068929Z",
     "iopub.status.busy": "2021-11-27T01:43:31.068092Z",
     "iopub.status.idle": "2021-11-27T01:43:32.480444Z",
     "shell.execute_reply": "2021-11-27T01:43:32.479811Z"
    },
    "papermill": {
     "duration": 1.482738,
     "end_time": "2021-11-27T01:43:32.480647",
     "exception": false,
     "start_time": "2021-11-27T01:43:30.997909",
     "status": "completed"
    },
    "tags": []
   },
   "outputs": [
    {
     "name": "stdout",
     "output_type": "stream",
     "text": [
      "Added 'output' directory to .gitignore...\n",
      "README.md found, appended auto-generated content\n",
      "Finished refactoring 'ml.ipynb', use Ploomber to continue.\n",
      "\n",
      "Install dependencies (this will install ploomber):\n",
      "    $ pip install -r requirements.txt\n",
      "\n",
      "List tasks:\n",
      "    $ ploomber status\n",
      "\n",
      "Execute pipeline:\n",
      "    $ ploomber build\n",
      "\n",
      "Plot pipeline:\n",
      "    $ ploomber plot\n",
      "\n",
      "* Documentation: https://docs.ploomber.io\n",
      "* Jupyter integration: https://ploomber.io/s/jupyter\n",
      "* Other editors: https://ploomber.io/s/editors\n",
      "\n"
     ]
    }
   ],
   "source": [
    "%%sh\n",
    "soorgeon refactor ml.ipynb"
   ]
  },
  {
   "cell_type": "markdown",
   "id": "4d70314f",
   "metadata": {
    "papermill": {
     "duration": 0.058721,
     "end_time": "2021-11-27T01:43:32.602269",
     "exception": false,
     "start_time": "2021-11-27T01:43:32.543548",
     "status": "completed"
    },
    "tags": []
   },
   "source": [
    "Let's see the diagram:"
   ]
  },
  {
   "cell_type": "code",
   "execution_count": 10,
   "id": "74dbe3d9",
   "metadata": {
    "execution": {
     "iopub.execute_input": "2021-11-27T01:43:32.709890Z",
     "iopub.status.busy": "2021-11-27T01:43:32.709020Z",
     "iopub.status.idle": "2021-11-27T01:43:38.426145Z",
     "shell.execute_reply": "2021-11-27T01:43:38.427261Z"
    },
    "papermill": {
     "duration": 5.776291,
     "end_time": "2021-11-27T01:43:38.427496",
     "exception": false,
     "start_time": "2021-11-27T01:43:32.651205",
     "status": "completed"
    },
    "tags": []
   },
   "outputs": [
    {
     "name": "stdout",
     "output_type": "stream",
     "text": [
      "Loading pipeline...\n",
      "Plot saved at: pipeline.png\n"
     ]
    },
    {
     "name": "stderr",
     "output_type": "stream",
     "text": [
      "100%|██████████| 5/5 [00:00<00:00, 10280.16it/s]\n"
     ]
    }
   ],
   "source": [
    "%%sh\n",
    "ploomber plot"
   ]
  },
  {
   "cell_type": "code",
   "execution_count": 11,
   "id": "d89e7fed",
   "metadata": {
    "execution": {
     "iopub.execute_input": "2021-11-27T01:43:38.546551Z",
     "iopub.status.busy": "2021-11-27T01:43:38.545713Z",
     "iopub.status.idle": "2021-11-27T01:43:38.556019Z",
     "shell.execute_reply": "2021-11-27T01:43:38.556493Z"
    },
    "papermill": {
     "duration": 0.070288,
     "end_time": "2021-11-27T01:43:38.556700",
     "exception": false,
     "start_time": "2021-11-27T01:43:38.486412",
     "status": "completed"
    },
    "tags": []
   },
   "outputs": [
    {
     "data": {
      "image/png": "[encoded data removed]",
      "text/plain": [
       "<IPython.core.display.Image object>"
      ]
     },
     "execution_count": 11,
     "metadata": {},
     "output_type": "execute_result"
    }
   ],
   "source": [
    "Image('pipeline.png')"
   ]
  },
  {
   "cell_type": "markdown",
   "id": "cc265c98",
   "metadata": {
    "papermill": {
     "duration": 0.061338,
     "end_time": "2021-11-27T01:43:38.673805",
     "exception": false,
     "start_time": "2021-11-27T01:43:38.612467",
     "status": "completed"
    },
    "tags": []
   },
   "source": [
    "We see that `soorgeon refactor` accurately determined the dependencies among sections, even identifying that the model training tasks (`linear-regression` and `random-forest-regressor`) are independent of each other and can run in parallel.\n",
    "\n",
    "Let's run the pipeline:"
   ]
  },
  {
   "cell_type": "code",
   "execution_count": 12,
   "id": "5bdb74de",
   "metadata": {
    "execution": {
     "iopub.execute_input": "2021-11-27T01:43:38.806241Z",
     "iopub.status.busy": "2021-11-27T01:43:38.805437Z",
     "iopub.status.idle": "2021-11-27T01:44:09.372290Z",
     "shell.execute_reply": "2021-11-27T01:44:09.371679Z"
    },
    "papermill": {
     "duration": 30.638377,
     "end_time": "2021-11-27T01:44:09.372608",
     "exception": false,
     "start_time": "2021-11-27T01:43:38.734231",
     "status": "completed"
    },
    "tags": []
   },
   "outputs": [
    {
     "name": "stdout",
     "output_type": "stream",
     "text": [
      "Loading pipeline...\n",
      "name                     Ran?      Elapsed (s)    Percentage\n",
      "-----------------------  ------  -------------  ------------\n",
      "load                     True          3.90638      18.2755\n",
      "clean                    True          5.60531      26.2238\n",
      "train-test-split         True          1.86871       8.74253\n",
      "linear-regression        True          3.33052      15.5815\n",
      "random-forest-regressor  True          6.66398      31.1767\n"
     ]
    },
    {
     "name": "stderr",
     "output_type": "stream",
     "text": [
      "Building task 'load':   0%|          | 0/5 [00:00<?, ?it/s]\n",
      "Executing:   0%|          | 0/8 [00:00<?, ?cell/s]\u001b[A\n",
      "Executing:  12%|█▎        | 1/8 [00:02<00:14,  2.14s/cell]\u001b[A\n",
      "Executing: 100%|██████████| 8/8 [00:03<00:00,  2.05cell/s]\u001b[A\n",
      "Building task 'clean':  20%|██        | 1/5 [00:03<00:15,  3.91s/it]\n",
      "Executing:   0%|          | 0/12 [00:00<?, ?cell/s]\u001b[A\n",
      "Executing:   8%|▊         | 1/12 [00:02<00:22,  2.06s/cell]\u001b[A\n",
      "Executing:  50%|█████     | 6/12 [00:02<00:01,  3.25cell/s]\u001b[A\n",
      "Executing:  67%|██████▋   | 8/12 [00:04<00:02,  1.63cell/s]\u001b[A\n",
      "Executing:  75%|███████▌  | 9/12 [00:04<00:01,  1.93cell/s]\u001b[A\n",
      "Executing: 100%|██████████| 12/12 [00:05<00:00,  2.15cell/s]\u001b[A\n",
      "Building task 'train-test-split':  40%|████      | 2/5 [00:09<00:14,  4.91s/it]\n",
      "Executing:   0%|          | 0/9 [00:00<?, ?cell/s]\u001b[A\n",
      "Executing:  11%|█         | 1/9 [00:01<00:09,  1.23s/cell]\u001b[A\n",
      "Executing: 100%|██████████| 9/9 [00:01<00:00,  4.84cell/s]\u001b[A\n",
      "Building task 'linear-regression':  60%|██████    | 3/5 [00:11<00:07,  3.52s/it]\n",
      "Executing:   0%|          | 0/10 [00:00<?, ?cell/s]\u001b[A\n",
      "Executing:  10%|█         | 1/10 [00:02<00:22,  2.53s/cell]\u001b[A\n",
      "Executing: 100%|██████████| 10/10 [00:03<00:00,  3.01cell/s][A\n",
      "Building task 'random-forest-regressor':  80%|████████  | 4/5 [00:14<00:03,  3.45s/it]\n",
      "Executing:   0%|          | 0/7 [00:00<?, ?cell/s]\u001b[A\n",
      "Executing:  14%|█▍        | 1/7 [00:02<00:14,  2.49s/cell]\u001b[A\n",
      "Executing: 100%|██████████| 7/7 [00:06<00:00,  1.05cell/s]\u001b[A\n",
      "Building task 'random-forest-regressor': 100%|██████████| 5/5 [00:21<00:00,  4.28s/it]\n"
     ]
    }
   ],
   "source": [
    "%%sh\n",
    "ploomber build"
   ]
  },
  {
   "cell_type": "markdown",
   "id": "56e4e555",
   "metadata": {
    "papermill": {
     "duration": 0.058402,
     "end_time": "2021-11-27T01:44:09.489591",
     "exception": false,
     "start_time": "2021-11-27T01:44:09.431189",
     "status": "completed"
    },
    "tags": []
   },
   "source": [
    "That's it! Now give it a try with one of your notebooks!"
   ]
  }
 ],
 "metadata": {
  "interpreter": {
   "hash": "338b56b61393e07a5887256a83607fca4ebca30223005b3a4b1291d79c740448"
  },
  "kernelspec": {
   "display_name": "Python 3.8.13 (conda)",
   "language": "python",
   "name": "python3"
  },
  "language_info": {
   "codemirror_mode": {
    "name": "ipython",
    "version": 3
   },
   "file_extension": ".py",
   "mimetype": "text/x-python",
   "name": "python",
   "nbconvert_exporter": "python",
   "pygments_lexer": "ipython3",
   "version": "3.8.13"
  },
  "papermill": {
   "default_parameters": {},
   "duration": 62.794706,
   "end_time": "2021-11-27T01:44:09.769803",
   "environment_variables": {},
   "exception": null,
   "input_path": "guides/refactor/_build/readme_preprocessed.ipynb",
   "output_path": "guides/refactor/README.ipynb",
   "parameters": {},
   "start_time": "2021-11-27T01:43:06.975097",
   "version": "2.3.3"
  }
 },
 "nbformat": 4,
 "nbformat_minor": 5
}
